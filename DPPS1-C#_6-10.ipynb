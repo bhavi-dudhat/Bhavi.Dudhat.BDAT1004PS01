{
 "cells": [
  {
   "cell_type": "markdown",
   "id": "25dd33bf",
   "metadata": {},
   "source": [
    "### Question 6 Python\n",
    "#### 16. You can turn a word into pig-Latin using the following two rules (simplified):\n",
    "#### • If the word starts with a consonant, move that letter to the end and append 'ay'. For example, 'happy' becomes 'appyhay' and 'pencil' becomes 'encilpay'.\n",
    "#### • If the word starts with a vowel, simply append 'way' to the end of the word.\n",
    "#### For example, 'enter' becomes 'enterway' and 'other' becomes 'otherway' . For our purposes, there are 5 vowels: a, e, i, o, u (so we count y as a consonant).\n",
    "#### Write a function pig() that takes a word (i.e., a string) as input and returns its pigLatin form. Your function should still work if the input word contains upper case characters. Your output should always be lower case however.\n",
    "#### >>> pig('happy')\n",
    "#### 'appyhay'\n",
    "#### >>> pig('Enter')\n",
    "#### 'enterway'"
   ]
  },
  {
   "cell_type": "code",
   "execution_count": 84,
   "id": "b71d2e08",
   "metadata": {},
   "outputs": [
    {
     "name": "stdout",
     "output_type": "stream",
     "text": [
      "Enter word : enTER\n",
      "enterway\n"
     ]
    }
   ],
   "source": [
    "# vowelCheck function returns true if the character is vowel \n",
    "def vowelCheck(c):\n",
    "    return (c == 'a' or c == 'e' or c == 'i' or c == 'o' or c == 'u'); \n",
    "\n",
    "# pig function implements pig-latin rules\n",
    "def pig(str):\n",
    "    strlen = len(str);\n",
    "    ind = -1;\n",
    "    for i in range(strlen):\n",
    "        if (vowelCheck(str[i])):\n",
    "            ind = i;\n",
    "            return str + \"way\";\n",
    "            break;\n",
    "        else:\n",
    "            return str[1:] + str[0] +'ay';\n",
    "\n",
    "inp_word = (input(\"Enter word : \"));\n",
    "pigstr = pig(inp_word.lower());\n",
    "print(pigstr);\n",
    "    "
   ]
  },
  {
   "cell_type": "markdown",
   "id": "e3616e2a",
   "metadata": {},
   "source": [
    "### Question 7 Python\n",
    "#### File bloodtype1.txt records blood-types of patients (A, B, AB, O or OO) at a clinic.\n",
    "#### Write a function bldcount() that reads the file with name name and reports (i.e., prints) how many patients there are in each bloodtype.\n",
    "#### >>> bldcount('bloodtype.txt')\n",
    "#### There are 10 patients of blood type A.\n",
    "#### There is one patient of blood type B.\n",
    "#### There are 10 patients of blood type AB.\n",
    "#### There are 12 patients of blood type O.\n",
    "#### There are no patients of blood type OO."
   ]
  },
  {
   "cell_type": "code",
   "execution_count": 47,
   "id": "a9ec0978",
   "metadata": {},
   "outputs": [
    {
     "name": "stdout",
     "output_type": "stream",
     "text": [
      "There are 15 patients of blood type A.\n",
      "There are 1 patients of blood type B.\n",
      "There are 13 patients of blood type AB.\n",
      "There are 15 patients of blood type O.\n",
      "There are 0 patients of blood type OO.\n"
     ]
    }
   ],
   "source": [
    "# bldcount function opens the file - bloodtype.txt, and counts the number of patients for each blood group using the different counters inside for loop\n",
    "def bldcount(fileName):\n",
    "    input_file = open(fileName,'r');  \n",
    "    file_d = input_file.read();  \n",
    "    words = file_d.split();  \n",
    "    bldtypA = 0;  \n",
    "    bldtypB = 0;  \n",
    "    bldtypAB = 0;  \n",
    "    bldtypO = 0;  \n",
    "    bldtypOO = 0;  \n",
    "    for i in words:  \n",
    "        i=i.upper();\n",
    "        if i=='A':  \n",
    "            bldtypA+=1  \n",
    "        elif i=='B':  \n",
    "            bldtypB+=1  \n",
    "        elif i=='AB':  \n",
    "            bldtypAB+=1  \n",
    "        elif i=='O':  \n",
    "            bldtypO+=1  \n",
    "        elif i=='OO':  \n",
    "            bldtypOO+=1  \n",
    "    print(\"There are {} patients of blood type A.\".format(bldtypA)) \n",
    "    print(\"There are {} patients of blood type B.\".format(bldtypB))   \n",
    "    print(\"There are {} patients of blood type AB.\".format(bldtypAB))  \n",
    "    print(\"There are {} patients of blood type O.\".format(bldtypO))  \n",
    "    print(\"There are {} patients of blood type OO.\".format(bldtypOO))  \n",
    "\n",
    "bldcount('bloodtype.txt')"
   ]
  },
  {
   "cell_type": "markdown",
   "id": "397f2b7d",
   "metadata": {},
   "source": [
    "### Question 8 Python\n",
    "#### Write a function curconv() that takes as input:\n",
    "#### 1. a currency represented using a string (e.g., 'JPY' for the Japanese Yen or 'EUR' for the Euro)\n",
    "#### 2. an amount and then converts and returns the amount in US dollars.\n",
    "##### >>> curconv('EUR', 100)\n",
    "##### 122.96544\n",
    "##### >>> curconv('JPY', 100)\n",
    "##### 1.241401\n",
    "##### The currency rates you will need are stored in file currencies.txt:\n",
    "##### AUD 1.0345157 Australian Dollar\n",
    "##### CHF 1.0237414 Swiss Franc\n",
    "##### CNY 0.1550176 Chinese Yuan\n",
    "##### DKK 0.1651442 Danish Krone\n",
    "##### EUR 1.2296544 Euro\n",
    "##### GBP 1.5550989 British Pound\n",
    "##### HKD 0.1270207 Hong Kong Dollar\n",
    "##### INR 0.0177643 Indian Rupee\n",
    "##### JPY 0.01241401 Japanese Yen\n",
    "##### MXN 0.0751848 Mexican Peso\n",
    "##### MYR 0.3145411 Malaysian Ringgit\n",
    "##### NOK 0.1677063 Norwegian Krone\n",
    "##### NZD 0.8003591 New Zealand Dollar\n",
    "##### PHP 0.0233234 Philippine Peso\n",
    "##### SEK 0.148269 Swedish Krona\n",
    "##### SGD 0.788871 Singapore Dollar\n",
    "##### THB 0.0313789 Thai Baht"
   ]
  },
  {
   "cell_type": "code",
   "execution_count": 48,
   "id": "48e2787c",
   "metadata": {},
   "outputs": [
    {
     "name": "stdout",
     "output_type": "stream",
     "text": [
      "Enter Currency : eur\n",
      "Enter Amount : 100\n"
     ]
    },
    {
     "data": {
      "text/plain": [
       "122.96544"
      ]
     },
     "execution_count": 48,
     "metadata": {},
     "output_type": "execute_result"
    }
   ],
   "source": [
    "input_file = open(\"currencies.txt\",'r');  \n",
    "records = input_file.readlines();  \n",
    "currencyArr=[]    \n",
    "\n",
    "# curconv function takes currency and amount as input, and then calculate respective currency in US dollars \n",
    "def curconv():  \n",
    "    currency=input(\"Enter Currency : \");\n",
    "    amount=input(\"Enter Amount : \");\n",
    "    for i in records:  \n",
    "        if currency.upper() in i:  \n",
    "            currencyArr = i.split()  \n",
    "    convRate = float(currencyArr[1])*int(amount)  \n",
    "    return convRate  \n",
    "curconv()"
   ]
  },
  {
   "cell_type": "markdown",
   "id": "2bb13851",
   "metadata": {},
   "source": [
    "### Question 9 Python\n",
    "#### Each of the following will cause an exception (an error). Identify what type of exception each will cause.\n",
    "##### Trying to add incompatible variables, as in adding 6 + ‘a’\n",
    "##### Referring to the 12th item of a list that has only 10 items\n",
    "##### Using a value that is out of range for a function’s input, such as calling math.sqrt(-1.0)\n",
    "##### Using an undeclared variable, such as print(x) when x has not been defined\n",
    "##### Trying to open a file that does not exist, such as mistyping the file name or looking in the wrong directory. "
   ]
  },
  {
   "cell_type": "code",
   "execution_count": 52,
   "id": "eff3e132",
   "metadata": {},
   "outputs": [
    {
     "ename": "TypeError",
     "evalue": "unsupported operand type(s) for +: 'int' and 'str'",
     "output_type": "error",
     "traceback": [
      "\u001b[1;31m---------------------------------------------------------------------------\u001b[0m",
      "\u001b[1;31mTypeError\u001b[0m                                 Traceback (most recent call last)",
      "\u001b[1;32m~\\AppData\\Local\\Temp/ipykernel_24124/3302738941.py\u001b[0m in \u001b[0;36m<module>\u001b[1;34m\u001b[0m\n\u001b[1;32m----> 1\u001b[1;33m \u001b[0mprint\u001b[0m\u001b[1;33m(\u001b[0m \u001b[1;36m6\u001b[0m \u001b[1;33m+\u001b[0m\u001b[1;34m'a'\u001b[0m\u001b[1;33m)\u001b[0m\u001b[1;33m\u001b[0m\u001b[1;33m\u001b[0m\u001b[0m\n\u001b[0m",
      "\u001b[1;31mTypeError\u001b[0m: unsupported operand type(s) for +: 'int' and 'str'"
     ]
    }
   ],
   "source": [
    "print( 6 +'a')"
   ]
  },
  {
   "cell_type": "code",
   "execution_count": 58,
   "id": "4eb92503",
   "metadata": {},
   "outputs": [
    {
     "ename": "IndexError",
     "evalue": "list index out of range",
     "output_type": "error",
     "traceback": [
      "\u001b[1;31m---------------------------------------------------------------------------\u001b[0m",
      "\u001b[1;31mIndexError\u001b[0m                                Traceback (most recent call last)",
      "\u001b[1;32m~\\AppData\\Local\\Temp/ipykernel_24124/3846685627.py\u001b[0m in \u001b[0;36m<module>\u001b[1;34m\u001b[0m\n\u001b[0;32m      1\u001b[0m \u001b[0ma\u001b[0m\u001b[1;33m=\u001b[0m\u001b[1;33m[\u001b[0m\u001b[1;34m'a'\u001b[0m\u001b[1;33m,\u001b[0m\u001b[1;34m's'\u001b[0m\u001b[1;33m,\u001b[0m\u001b[1;34m'd'\u001b[0m\u001b[1;33m,\u001b[0m\u001b[1;34m'f'\u001b[0m\u001b[1;33m,\u001b[0m\u001b[1;34m'g'\u001b[0m\u001b[1;33m,\u001b[0m\u001b[1;34m'h'\u001b[0m\u001b[1;33m,\u001b[0m\u001b[1;34m'j'\u001b[0m\u001b[1;33m,\u001b[0m\u001b[1;34m'k'\u001b[0m\u001b[1;33m,\u001b[0m\u001b[1;34m'l'\u001b[0m\u001b[1;33m,\u001b[0m\u001b[1;34m'l'\u001b[0m\u001b[1;33m]\u001b[0m\u001b[1;33m\u001b[0m\u001b[1;33m\u001b[0m\u001b[0m\n\u001b[1;32m----> 2\u001b[1;33m \u001b[0mprint\u001b[0m\u001b[1;33m(\u001b[0m\u001b[0ma\u001b[0m\u001b[1;33m[\u001b[0m\u001b[1;36m12\u001b[0m\u001b[1;33m]\u001b[0m\u001b[1;33m)\u001b[0m\u001b[1;33m\u001b[0m\u001b[1;33m\u001b[0m\u001b[0m\n\u001b[0m",
      "\u001b[1;31mIndexError\u001b[0m: list index out of range"
     ]
    }
   ],
   "source": [
    "a=['a','s','d','f','g','h','j','k','l','l']\n",
    "print(a[12])"
   ]
  },
  {
   "cell_type": "code",
   "execution_count": 59,
   "id": "ab8100f8",
   "metadata": {},
   "outputs": [
    {
     "ename": "ValueError",
     "evalue": "math domain error",
     "output_type": "error",
     "traceback": [
      "\u001b[1;31m---------------------------------------------------------------------------\u001b[0m",
      "\u001b[1;31mValueError\u001b[0m                                Traceback (most recent call last)",
      "\u001b[1;32m~\\AppData\\Local\\Temp/ipykernel_24124/3755102649.py\u001b[0m in \u001b[0;36m<module>\u001b[1;34m\u001b[0m\n\u001b[0;32m      1\u001b[0m \u001b[1;32mimport\u001b[0m \u001b[0mmath\u001b[0m\u001b[1;33m\u001b[0m\u001b[1;33m\u001b[0m\u001b[0m\n\u001b[1;32m----> 2\u001b[1;33m \u001b[0mprint\u001b[0m\u001b[1;33m(\u001b[0m\u001b[0mmath\u001b[0m\u001b[1;33m.\u001b[0m\u001b[0msqrt\u001b[0m\u001b[1;33m(\u001b[0m\u001b[1;33m-\u001b[0m\u001b[1;36m1.0\u001b[0m\u001b[1;33m)\u001b[0m\u001b[1;33m)\u001b[0m\u001b[1;33m\u001b[0m\u001b[1;33m\u001b[0m\u001b[0m\n\u001b[0m",
      "\u001b[1;31mValueError\u001b[0m: math domain error"
     ]
    }
   ],
   "source": [
    "import math\n",
    "print(math.sqrt(-1.0))"
   ]
  },
  {
   "cell_type": "code",
   "execution_count": 62,
   "id": "204ff8f9",
   "metadata": {},
   "outputs": [
    {
     "ename": "NameError",
     "evalue": "name 'dataprogramming' is not defined",
     "output_type": "error",
     "traceback": [
      "\u001b[1;31m---------------------------------------------------------------------------\u001b[0m",
      "\u001b[1;31mNameError\u001b[0m                                 Traceback (most recent call last)",
      "\u001b[1;32m~\\AppData\\Local\\Temp/ipykernel_24124/1844674059.py\u001b[0m in \u001b[0;36m<module>\u001b[1;34m\u001b[0m\n\u001b[1;32m----> 1\u001b[1;33m \u001b[0mprint\u001b[0m\u001b[1;33m(\u001b[0m\u001b[0mdataprogramming\u001b[0m\u001b[1;33m)\u001b[0m\u001b[1;33m\u001b[0m\u001b[1;33m\u001b[0m\u001b[0m\n\u001b[0m",
      "\u001b[1;31mNameError\u001b[0m: name 'dataprogramming' is not defined"
     ]
    }
   ],
   "source": [
    "print(dataprogramming)"
   ]
  },
  {
   "cell_type": "code",
   "execution_count": 61,
   "id": "832d70e2",
   "metadata": {},
   "outputs": [
    {
     "ename": "FileNotFoundError",
     "evalue": "[Errno 2] No such file or directory: 'curency.txt'",
     "output_type": "error",
     "traceback": [
      "\u001b[1;31m---------------------------------------------------------------------------\u001b[0m",
      "\u001b[1;31mFileNotFoundError\u001b[0m                         Traceback (most recent call last)",
      "\u001b[1;32m~\\AppData\\Local\\Temp/ipykernel_24124/786285309.py\u001b[0m in \u001b[0;36m<module>\u001b[1;34m\u001b[0m\n\u001b[1;32m----> 1\u001b[1;33m \u001b[0minput_file\u001b[0m\u001b[1;33m=\u001b[0m\u001b[0mopen\u001b[0m\u001b[1;33m(\u001b[0m\u001b[1;34m'curency.txt'\u001b[0m\u001b[1;33m,\u001b[0m\u001b[1;34m'r'\u001b[0m\u001b[1;33m)\u001b[0m\u001b[1;33m\u001b[0m\u001b[1;33m\u001b[0m\u001b[0m\n\u001b[0m",
      "\u001b[1;31mFileNotFoundError\u001b[0m: [Errno 2] No such file or directory: 'curency.txt'"
     ]
    }
   ],
   "source": [
    "input_file=open('curency.txt','r')"
   ]
  },
  {
   "cell_type": "markdown",
   "id": "2058d5ed",
   "metadata": {},
   "source": [
    "#### As it can be seen above, the errors for given questions are :\n",
    "\n",
    "Question |Error\n",
    "-----|-----\n",
    "Trying to add incompatible variables, as in adding 6 + ‘a’| __TypeError__: unsupported operand type(s) for +: 'int' and 'str'\n",
    "Referring to the 12th item of a list that has only 10 items | __IndexError__: list index out of range\n",
    "Using a value that is out of range for a function’s input, such as calling math.sqrt(-1.0)| __ValueError__: math domain error\n",
    "Using an undeclared variable, such as print(x) when x has not been defined | __NameError__: name 'dataprogramming' is not defined\n",
    "Trying to open a file that does not exist, such as mistyping the file name or looking in the wrong directory. | __FileNotFoundError__: [Errno 2] No such file or directory: 'curency.txt'\n"
   ]
  },
  {
   "cell_type": "markdown",
   "id": "15d052cd",
   "metadata": {},
   "source": [
    "### Question 10 Python\n",
    "##### Encryption is the process of hiding the meaning of a text by substituting letters in the message with other letters, according to some system. If the process is successful, no one but the intended recipient can understand the encrypted message. Cryptanalysis refers to attempts to undo the encryption, even if some details of the encryption are unknown (for example, if an encrypted message has been intercepted). The first step of cryptanalysis is often to build up a table of letter frequencies in the encrypted text. \n",
    "##### Assume that the string letters is already defined as 'abcdefghijklmnopqrstuvwxyz'. Write a function called frequencies() that takes a string as its only parameter, and returns a list of integers, showing the number of times each character appears in the text. Your function may ignore any characters that are not in letters.\n",
    "##### >>> frequencies('The quick red fox got bored and went home.')\n",
    "##### [1, 1, 1, 3, 5, 1, 1, 2, 1, 0, 1, 0, 1, 2, 4, 0, 1, 2, 0, 2,1, 0, 1, 1, 0, 0]\n",
    "##### >>> frequencies('apple')"
   ]
  },
  {
   "cell_type": "code",
   "execution_count": 83,
   "id": "44411cd3",
   "metadata": {},
   "outputs": [
    {
     "name": "stdout",
     "output_type": "stream",
     "text": [
      "Enter sentence : The quick red fox got bored and went home.\n",
      "[1, 1, 1, 3, 5, 1, 1, 2, 1, 0, 1, 0, 1, 2, 4, 0, 1, 2, 0, 2, 1, 0, 1, 1, 0, 0]\n"
     ]
    }
   ],
   "source": [
    "# the frequencies function counts the occurencies frequency of each alphabet from a-z in the inputted-string. \n",
    "def frequencies(sentence): \n",
    "    freq=[]\n",
    "    count=0\n",
    "    letters = \"abcdefghijklmnopqrstuvwxyz\"\n",
    "    for i in letters:\n",
    "        for j in sentence:\n",
    "          if i == j:\n",
    "            count= count+1\n",
    "        freq.append(count)\n",
    "        count=0\n",
    "    return freq\n",
    "\n",
    "sentence = (input(\"Enter sentence : \"));        \n",
    "print(frequencies(sentence));"
   ]
  }
 ],
 "metadata": {
  "kernelspec": {
   "display_name": "Python 3 (ipykernel)",
   "language": "python",
   "name": "python3"
  },
  "language_info": {
   "codemirror_mode": {
    "name": "ipython",
    "version": 3
   },
   "file_extension": ".py",
   "mimetype": "text/x-python",
   "name": "python",
   "nbconvert_exporter": "python",
   "pygments_lexer": "ipython3",
   "version": "3.9.6"
  }
 },
 "nbformat": 4,
 "nbformat_minor": 5
}
